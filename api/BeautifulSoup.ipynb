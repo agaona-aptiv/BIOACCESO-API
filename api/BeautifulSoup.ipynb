{
 "cells": [
  {
   "cell_type": "code",
   "execution_count": 7,
   "metadata": {},
   "outputs": [],
   "source": [
    "import requests                                             #python3 -m pip install requests\n",
    "from urllib.request import Request, urlopen \n",
    "import urllib.request\n",
    "import ssl\n",
    "import pickle\n",
    "import shelve\n",
    "import ctypes\n",
    "from requests.packages.urllib3.exceptions import InsecureRequestWarning\n",
    "requests.packages.urllib3.disable_warnings(InsecureRequestWarning)\n",
    "from enum import Enum\n",
    "import time\n",
    "from bs4 import BeautifulSoup\n",
    "import pandas as pd\n",
    "from datetime import date, timedelta"
   ]
  },
  {
   "cell_type": "code",
   "execution_count": 8,
   "metadata": {},
   "outputs": [],
   "source": [
    "def requestToken():\n",
    "    url_base='https://'+ '157.55.183.132' +'/sba_hub/API/public/index.php/api/v1/hubapi'\n",
    "    r = requests.Response\n",
    "    try:\n",
    "        HUB_Service_Token = '/auth/device'\n",
    "        REQUEST_TIMEOUT = (3, 3)  # 3 second to connect, 3 second to receive response\n",
    "        tokenURL = url_base + HUB_Service_Token\n",
    "        tokenInfo = {'Administrador ': '2161'}\n",
    "        r = requests.post(url=tokenURL, json=tokenInfo, timeout=REQUEST_TIMEOUT,verify=False)  # add verify False SSL\n",
    "    except Exception as e:\n",
    "        print('Exception: ' + str(e))\n",
    "    return r.status_code"
   ]
  },
  {
   "cell_type": "code",
   "execution_count": 11,
   "metadata": {},
   "outputs": [],
   "source": [
    "class BearerAuth(requests.auth.AuthBase):\n",
    "    def __init__(self, token):\n",
    "        self.token = token\n",
    "\n",
    "    def __call__(self, r):\n",
    "        r.headers[\"authorization\"] = \"Bearer \" + self.token\n",
    "        return r\n",
    "\n",
    "def GetRecords(user,password,hub,from_date,to_date,sap=\"\",device=\"\",site=\"\"):\n",
    "    url = 'https://'+hub+'/sba_hub/API/public/index.php/api/v1/hubapi/auth/login'\n",
    "    payload = {\"userid\": user, \"passwd\": password}\n",
    "    login_response = requests.post(url, data=payload,verify=False)\n",
    "    token = login_response.json()['token']\n",
    "    POST_URL = 'https://'+ hub+ '/sba_hub/API/public/index.php/api/v1/hubapi/records/all'\n",
    "    payload = {\"from_date\": from_date,\"to_date\": to_date,\"sap\": sap,\"device\": device,\"site\": site}\n",
    "    REQUEST_TIMEOUT_POST_PENDING = (3, 6)\n",
    "    users_records = requests.post(url=POST_URL, json=payload, timeout=REQUEST_TIMEOUT_POST_PENDING,auth=BearerAuth(token), verify=False)  # add verify False SSL\n",
    "    USER_TYPE = ['Empleado','Visita','NOT_DEFINED','NOT_DEFINED']\n",
    "    AUTORIZED_ACCESS = ['Si','No','No']\n",
    "    CUBREBOCAS = ['Incorrecto','Correcto']\n",
    "    ESTATUS_MONITOR = ['Enviado','No Enviado','NOT_DEFINEED_3','ID Seguimiento inválido','NOT_DEFINED_5']\n",
    "    user_record_list = []\n",
    "    for user_record in users_records.json():\n",
    "        user_record_json ={}\n",
    "        user_record_json['#Empleado_ID'] = user_record['sap_number']\n",
    "        user_record_json['Nombre'] = user_record['users']['lastname'] + ' '+ user_record['users']['surname'] + ' '+ user_record['users']['name']\n",
    "        user_record_json['Dispositivo'] = user_record['devices']['mac_address']\n",
    "        user_record_json['Alias'] = user_record['devices']['device_type']\n",
    "        user_record_json['ID_Seguimiento'] = user_record['monitor_id']\n",
    "        user_record_json['Tipo_Usuario'] = USER_TYPE[user_record['user_type']-1]\n",
    "        user_record_json['Autorizado?'] = AUTORIZED_ACCESS[user_record['authorized_access']-1]\n",
    "        user_record_json['Temperatura'] = user_record['temperature']\n",
    "        user_record_json['Fecha_Registro'] = user_record['date_time']\n",
    "        user_record_json['Cubrebocas?'] = CUBREBOCAS[user_record['mask']]\n",
    "        user_record_json['Estatus_Monitor_FCS'] = ESTATUS_MONITOR[user_record['status']-1]\n",
    "        user_record_json['Fecha_Envio_Monitor_FCS'] = user_record['to_fcs']\n",
    "        user_record_list.append(user_record_json)        \n",
    "    data_set = pd.DataFrame.from_records(user_record_list)\n",
    "    return data_set"
   ]
  },
  {
   "cell_type": "code",
   "execution_count": null,
   "metadata": {},
   "outputs": [],
   "source": [
    "user = 'admin-SBA'                  #El user del HUB\n",
    "password = 'SB4p4ssw0rd*21'         #El password del HUB\n",
    "hub = '10.200.19.17'                #Solo la IP del HUB o el Alias del HUB arnelec o como le llamen ejemplo  https://IP_DEL_HUB/sba_hub\n",
    "day_to_report = str(date.today() - timedelta(days=1))\n",
    "from_date = day_to_report + ' 00:00:00'\n",
    "to_date = day_to_report + ' 23:59:59'\n",
    "data_set = GetRecords(user=user,password=password,hub=hub,from_date=from_date,to_date=to_date)\n",
    "data_set.to_excel(day_to_report +'_'+hub+ '_Registros.xlsx',sheet_name='registros', index=False)\n",
    "data_set.head(15)"
   ]
  },
  {
   "cell_type": "code",
   "execution_count": 3,
   "metadata": {},
   "outputs": [],
   "source": [
    "import os\n",
    "\n",
    "# Set environment variables\n",
    "os.environ['API_USER'] = 'username'\n",
    "os.environ['API_PASSWORD'] = 'secret'\n",
    "\n",
    "# Get environment variables\n",
    "USER = os.getenv('API_USER')\n",
    "PASSWORD = os.environ.get('API_PASSWORD')\n",
    "\n",
    "# Getting non-existent keys\n",
    "FOO = os.getenv('FOO') # None\n",
    "BAR = os.environ.get('BAR') # None\n"
   ]
  },
  {
   "cell_type": "code",
   "execution_count": 12,
   "metadata": {},
   "outputs": [
    {
     "name": "stdout",
     "output_type": "stream",
     "text": [
      "1\n"
     ]
    }
   ],
   "source": [
    "os.environ[\"DEBUSSY\"] = \"1\"\n",
    "DEBUSSY = os.environ.get('DEBUSSY')\n",
    "print(DEBUSSY)"
   ]
  },
  {
   "cell_type": "code",
   "execution_count": 13,
   "metadata": {},
   "outputs": [
    {
     "data": {
      "text/plain": [
       "'value_2'"
      ]
     },
     "execution_count": 13,
     "metadata": {},
     "output_type": "execute_result"
    }
   ],
   "source": [
    "import os\n",
    "os.environ[\"variable_1\"] = \"value_1\"\n",
    "os.environ[\"variable_2\"] = \"value_2\"\n",
    "# To Verify above code\n",
    "os.environ.get(\"variable_1\")\n",
    "os.environ.get(\"variable_2\")"
   ]
  },
  {
   "cell_type": "code",
   "execution_count": null,
   "metadata": {},
   "outputs": [],
   "source": []
  }
 ],
 "metadata": {
  "kernelspec": {
   "display_name": "Python 3.10.6 64-bit (windows store)",
   "language": "python",
   "name": "python3"
  },
  "language_info": {
   "codemirror_mode": {
    "name": "ipython",
    "version": 3
   },
   "file_extension": ".py",
   "mimetype": "text/x-python",
   "name": "python",
   "nbconvert_exporter": "python",
   "pygments_lexer": "ipython3",
   "version": "3.10.8"
  },
  "orig_nbformat": 4,
  "vscode": {
   "interpreter": {
    "hash": "08f87906be76a30aec69aca7ee6adae195a5eded62f1e213331e39692eabb031"
   }
  }
 },
 "nbformat": 4,
 "nbformat_minor": 2
}
