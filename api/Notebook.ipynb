{
 "cells": [
  {
   "cell_type": "code",
   "execution_count": 7,
   "metadata": {},
   "outputs": [],
   "source": [
    "import requests                                             #python3 -m pip install requests\n",
    "from urllib.request import Request, urlopen \n",
    "import urllib.request\n",
    "import ssl\n",
    "import pickle\n",
    "import shelve\n",
    "import ctypes\n",
    "from requests.packages.urllib3.exceptions import InsecureRequestWarning\n",
    "requests.packages.urllib3.disable_warnings(InsecureRequestWarning)\n",
    "\n",
    "from bs4 import BeautifulSoup"
   ]
  },
  {
   "cell_type": "code",
   "execution_count": null,
   "metadata": {},
   "outputs": [],
   "source": [
    "user = 'userDommy'\n",
    "password = 'PassDommy'\n",
    "url = 'https://'+'157.55.183.132'+'/sba_hub/API/public/index.php/api/v1/hubapi/auth/login'\n",
    "payload = {\"userid\": user, \"passwd\": password}\n",
    "response = requests.post(url, data=payload,verify=False)\n",
    "ctx = ssl.create_default_context()\n",
    "ctx.check_hostname = False\n",
    "ctx.verify_mode = ssl.CERT_NONE\n",
    "users_url = \"https://157.55.183.132/sba_hub/#/usuarios\"\n",
    "users_repsonse = urllib.request.urlopen(users_url, timeout=10,context=ctx)\n",
    "print(users_repsonse.read())"
   ]
  },
  {
   "cell_type": "code",
   "execution_count": null,
   "metadata": {},
   "outputs": [],
   "source": [
    "soup = BeautifulSoup(users_repsonse.read(), \"html.parser\")\n",
    "rows = soup.find('ul', class_=\"ba608fb8 de8df3a3\").find_all('li')\n",
    "for row in rows:\n",
    "    price = row.find_all(\"div\", class_=\"_7978e49c _2e82a662\")\n",
    "    all_data.append[(price)]\n",
    "print(all_data)"
   ]
  },
  {
   "cell_type": "markdown",
   "metadata": {},
   "source": []
  },
  {
   "cell_type": "code",
   "execution_count": null,
   "metadata": {},
   "outputs": [],
   "source": [
    "!pip install Fernet"
   ]
  },
  {
   "cell_type": "code",
   "execution_count": null,
   "metadata": {},
   "outputs": [],
   "source": [
    "import time\n",
    "import pickle\n",
    "from pywinauto import application\n",
    "from pywinauto import mouse\n",
    "import warnings\n",
    "warnings.simplefilter('ignore', category=UserWarning)\n",
    "from cryptography.fernet import Fernet\n",
    "\n",
    "def get_user_info():\n",
    "    with open('entry_info.pkl', 'rb') as file:\n",
    "        user_password = pickle.load(file)\n",
    "        fernet = Fernet(user_password['key'])\n",
    "        userID = user_password['userID']\n",
    "        password = fernet.decrypt(user_password['encPassword']).decode()\n",
    "        return userID, password \n",
    "\n",
    "userID, password = get_user_info()\n",
    "print('userID:',userID)\n",
    "print('password:',password)\n",
    "\n",
    "app =  application.Application()\n",
    "app_file = r'C:\\\\Windows\\\\System32\\\\notepad.exe'\n",
    "app.start(app_file)\n",
    "\n",
    "window_title=\"Untitled – Notepad\"\n",
    "acd_app = app.window(title_re = window_title)\n",
    "print(acd_app.exists())\n",
    "\n",
    "#Click on the textx area\n",
    "mouse.click(button='left', coords=(30, 70))\n",
    "acd_app.type_keys('password',with_spaces=True)\n"
   ]
  },
  {
   "cell_type": "code",
   "execution_count": 31,
   "metadata": {},
   "outputs": [
    {
     "name": "stdout",
     "output_type": "stream",
     "text": [
      "is_process_running True\n",
      "windows: []\n"
     ]
    },
    {
     "data": {
      "text/plain": [
       "<uiawrapper.UIAWrapper - '*Untitled - Notepad', Dialog, 342715528930396550>"
      ]
     },
     "execution_count": 31,
     "metadata": {},
     "output_type": "execute_result"
    }
   ],
   "source": [
    "from pywinauto.application import Application\n",
    "app = Application(backend=\"uia\").start('notepad.exe')\n",
    "\n",
    "print('is_process_running',app.is_process_running())\n",
    "print('windows:',app.windows())\n",
    "\n",
    "# describe the window inside Notepad.exe process\n",
    "dlg_spec = app.UntitledNotepad\n",
    "# wait till the window is really open\n",
    "actionable_dlg = dlg_spec.wait('visible')\n",
    "userID, password = get_user_info()\n",
    "actionable_dlg.type_keys(password)"
   ]
  }
 ],
 "metadata": {
  "kernelspec": {
   "display_name": "Python 3.10.6 64-bit (windows store)",
   "language": "python",
   "name": "python3"
  },
  "language_info": {
   "codemirror_mode": {
    "name": "ipython",
    "version": 3
   },
   "file_extension": ".py",
   "mimetype": "text/x-python",
   "name": "python",
   "nbconvert_exporter": "python",
   "pygments_lexer": "ipython3",
   "version": "3.10.6"
  },
  "orig_nbformat": 4,
  "vscode": {
   "interpreter": {
    "hash": "08f87906be76a30aec69aca7ee6adae195a5eded62f1e213331e39692eabb031"
   }
  }
 },
 "nbformat": 4,
 "nbformat_minor": 2
}
